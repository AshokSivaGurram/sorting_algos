{
 "cells": [
  {
   "cell_type": "code",
   "execution_count": 5,
   "id": "3d432bf5",
   "metadata": {},
   "outputs": [
    {
     "name": "stdout",
     "output_type": "stream",
     "text": [
      "Enter the elements of arr with space between them\n",
      "4 3 5 9 36 73 23 1 84 36\n",
      "[1, 3, 4, 5, 9, 23, 36, 36, 73, 84]\n"
     ]
    }
   ],
   "source": [
    "# Taking input arr from the user\n",
    "arr = list(map(int, input(\"Enter the elements of arr with space between them\\n\").split(\" \")))\n",
    "\n",
    "# Defining the merge sort algorithm\n",
    "def merge_sort(arr):\n",
    "    length_of_arr = len(arr)\n",
    "    mid_ind = length_of_arr//2\n",
    "    arr = merge(arr[:mid_ind],arr[mid_ind:])\n",
    "    return arr\n",
    "\n",
    "def merge(left,right):\n",
    "    if len(left)>1:\n",
    "        mid_ind = len(left)//2\n",
    "        left = merge(left[:mid_ind],left[mid_ind:])\n",
    "    if len(right)>1:\n",
    "        mid_ind = len(right)//2\n",
    "        right = merge(right[:mid_ind],right[mid_ind:])\n",
    "    merged_arr = []\n",
    "    i = j = 0\n",
    "    while i<len(left) and j<len(right):\n",
    "        if left[i]<right[j]:\n",
    "            merged_arr.append(left[i])\n",
    "            i+=1\n",
    "        else:\n",
    "            merged_arr.append(right[j])\n",
    "            j+=1\n",
    "    while i<len(left):\n",
    "        merged_arr.append(left[i])\n",
    "        i+=1\n",
    "    while j<len(right):\n",
    "        merged_arr.append(right[j])\n",
    "        j+=1\n",
    "    return merged_arr\n",
    "\n",
    "print(merge_sort(arr))"
   ]
  },
  {
   "cell_type": "code",
   "execution_count": null,
   "id": "795a20db",
   "metadata": {},
   "outputs": [],
   "source": []
  }
 ],
 "metadata": {
  "kernelspec": {
   "display_name": "Python 3 (ipykernel)",
   "language": "python",
   "name": "python3"
  },
  "language_info": {
   "codemirror_mode": {
    "name": "ipython",
    "version": 3
   },
   "file_extension": ".py",
   "mimetype": "text/x-python",
   "name": "python",
   "nbconvert_exporter": "python",
   "pygments_lexer": "ipython3",
   "version": "3.11.0"
  }
 },
 "nbformat": 4,
 "nbformat_minor": 5
}
