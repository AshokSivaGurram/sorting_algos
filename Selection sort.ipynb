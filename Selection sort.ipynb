{
 "cells": [
  {
   "cell_type": "code",
   "execution_count": 4,
   "id": "73c52ab6",
   "metadata": {},
   "outputs": [
    {
     "name": "stdout",
     "output_type": "stream",
     "text": [
      "Enter the elements with space between them\n",
      "8 5 73 5 74 92 75 27 94 73\n",
      "[5, 5, 8, 27, 73, 73, 74, 75, 92, 94]\n"
     ]
    }
   ],
   "source": [
    "#Taking the input from user\n",
    "arr = list(map(int,input(\"Enter the elements with space between them\\n\").split(\" \")))\n",
    "\n",
    "#Defining Selection sort algorithm\n",
    "def selection_sort(arr):\n",
    "    length_of_arr = len(arr)\n",
    "    for i in range(length_of_arr):\n",
    "        ind=i\n",
    "        for j in range(i+1,length_of_arr):\n",
    "            if arr[j] < arr[ind]:\n",
    "                ind=j\n",
    "        arr[i], arr[ind] = arr[ind], arr[i]\n",
    "    return arr\n",
    "\n",
    "print(selection_sort(arr))"
   ]
  }
 ],
 "metadata": {
  "kernelspec": {
   "display_name": "Python 3 (ipykernel)",
   "language": "python",
   "name": "python3"
  },
  "language_info": {
   "codemirror_mode": {
    "name": "ipython",
    "version": 3
   },
   "file_extension": ".py",
   "mimetype": "text/x-python",
   "name": "python",
   "nbconvert_exporter": "python",
   "pygments_lexer": "ipython3",
   "version": "3.11.0"
  }
 },
 "nbformat": 4,
 "nbformat_minor": 5
}
