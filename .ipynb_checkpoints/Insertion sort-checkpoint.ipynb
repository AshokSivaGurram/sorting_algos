{
 "cells": [
  {
   "cell_type": "code",
   "execution_count": 5,
   "id": "62ef79e2",
   "metadata": {},
   "outputs": [
    {
     "name": "stdout",
     "output_type": "stream",
     "text": [
      "Enter the elements with the space between them\n",
      "8 9 4 3 6 84 73 92 63 25 14 36\n",
      "[3, 4, 6, 8, 9, 14, 25, 36, 63, 73, 84, 92]\n"
     ]
    }
   ],
   "source": [
    "#Taking input arr from user\n",
    "arr = list(map(int, input(\"Enter the elements with the space between them\\n\").split(\" \")))\n",
    "\n",
    "#Defining the Insertion sort\n",
    "def insertion_sort(arr):\n",
    "    length_of_arr = len(arr)\n",
    "    for i in range(1,length_of_arr):\n",
    "        for j in range(i-1,-1,-1):\n",
    "            if arr[j+1]<arr[j]:\n",
    "                arr[j+1], arr[j] = arr[j], arr[j+1]\n",
    "            else:\n",
    "                break\n",
    "    return arr\n",
    "\n",
    "print(insertion_sort(arr))"
   ]
  },
  {
   "cell_type": "code",
   "execution_count": null,
   "id": "d7ffa4be",
   "metadata": {},
   "outputs": [],
   "source": []
  }
 ],
 "metadata": {
  "kernelspec": {
   "display_name": "Python 3 (ipykernel)",
   "language": "python",
   "name": "python3"
  },
  "language_info": {
   "codemirror_mode": {
    "name": "ipython",
    "version": 3
   },
   "file_extension": ".py",
   "mimetype": "text/x-python",
   "name": "python",
   "nbconvert_exporter": "python",
   "pygments_lexer": "ipython3",
   "version": "3.11.0"
  }
 },
 "nbformat": 4,
 "nbformat_minor": 5
}
