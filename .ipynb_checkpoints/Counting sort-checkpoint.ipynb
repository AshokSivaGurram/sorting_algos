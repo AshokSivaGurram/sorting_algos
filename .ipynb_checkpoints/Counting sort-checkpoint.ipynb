{
 "cells": [
  {
   "cell_type": "code",
   "execution_count": 7,
   "id": "097331a7",
   "metadata": {},
   "outputs": [
    {
     "name": "stdout",
     "output_type": "stream",
     "text": [
      "Enter the elements of arr with space between them\n",
      "9 8 7 6 5 4 3 2 1\n",
      "[1, 2, 3, 4, 5, 6, 7, 8, 9]\n"
     ]
    }
   ],
   "source": [
    "# Taking input arr from user\n",
    "arr = list(map(int, input(\"Enter the elements of arr with space between them\\n\").split(\" \")))\n",
    "\n",
    "# Defining the Counting sort algorithm\n",
    "def counting_sort(arr):\n",
    "    max1=arr[0]\n",
    "    for i in arr:\n",
    "        if i>max1:\n",
    "            max1=i\n",
    "    count=[0]*(max1+1)\n",
    "    while len(arr)>0:\n",
    "        count[arr.pop(0)]+=1\n",
    "    for i in range(max1+1):\n",
    "        while count[i]>0:\n",
    "            arr.append(i)\n",
    "            count[i] -= 1\n",
    "    return arr\n",
    "\n",
    "print(counting_sort(arr))\n",
    "            "
   ]
  },
  {
   "cell_type": "code",
   "execution_count": null,
   "id": "0e14c38a",
   "metadata": {},
   "outputs": [],
   "source": []
  }
 ],
 "metadata": {
  "kernelspec": {
   "display_name": "Python 3 (ipykernel)",
   "language": "python",
   "name": "python3"
  },
  "language_info": {
   "codemirror_mode": {
    "name": "ipython",
    "version": 3
   },
   "file_extension": ".py",
   "mimetype": "text/x-python",
   "name": "python",
   "nbconvert_exporter": "python",
   "pygments_lexer": "ipython3",
   "version": "3.11.0"
  }
 },
 "nbformat": 4,
 "nbformat_minor": 5
}
