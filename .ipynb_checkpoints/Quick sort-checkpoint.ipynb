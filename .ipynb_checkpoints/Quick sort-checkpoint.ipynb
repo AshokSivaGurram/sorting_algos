{
 "cells": [
  {
   "cell_type": "code",
   "execution_count": 6,
   "id": "3af1055c",
   "metadata": {},
   "outputs": [
    {
     "name": "stdout",
     "output_type": "stream",
     "text": [
      "Enter the elements of arr with space between them\n",
      "9 8 7 6 5 4 3 2 1 0\n",
      "[0, 1, 2, 3, 4, 5, 6, 7, 8, 9]\n"
     ]
    }
   ],
   "source": [
    "# Taking input arr from user\n",
    "arr = list(map(int, input(\"Enter the elements of arr with space between them\\n\").split(\" \")))\n",
    "\n",
    "# Defining the Quick sort algorithm\n",
    "def quick_sort(arr,begin,end):\n",
    "    if begin>=end:\n",
    "        return\n",
    "    b=begin-1\n",
    "    pivot=arr[end]\n",
    "    for i in range(begin,end+1):\n",
    "        if arr[i]<=pivot:\n",
    "            b+=1\n",
    "            arr[i], arr[b] = arr[b], arr[i]\n",
    "    quick(arr,begin,b-1)\n",
    "    quick(arr,b+1,end)\n",
    "    return arr\n",
    "\n",
    "print(quick_sort(arr,0,len(arr)-1))"
   ]
  },
  {
   "cell_type": "code",
   "execution_count": null,
   "id": "d76f7828",
   "metadata": {},
   "outputs": [],
   "source": []
  }
 ],
 "metadata": {
  "kernelspec": {
   "display_name": "Python 3 (ipykernel)",
   "language": "python",
   "name": "python3"
  },
  "language_info": {
   "codemirror_mode": {
    "name": "ipython",
    "version": 3
   },
   "file_extension": ".py",
   "mimetype": "text/x-python",
   "name": "python",
   "nbconvert_exporter": "python",
   "pygments_lexer": "ipython3",
   "version": "3.11.0"
  }
 },
 "nbformat": 4,
 "nbformat_minor": 5
}
