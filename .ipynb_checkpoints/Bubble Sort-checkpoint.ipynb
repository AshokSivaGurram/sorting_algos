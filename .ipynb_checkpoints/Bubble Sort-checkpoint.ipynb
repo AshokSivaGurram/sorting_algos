{
 "cells": [
  {
   "cell_type": "code",
   "execution_count": 11,
   "id": "f1532a29",
   "metadata": {},
   "outputs": [
    {
     "name": "stdout",
     "output_type": "stream",
     "text": [
      "Enter the elements array with space between each element \n",
      "9 8 6 7 5 46 7 82 6 8 4 53 76 8 6 3 5 82 53 72 183 76\n",
      "[3, 4, 5, 5, 6, 6, 6, 7, 7, 8, 8, 8, 9, 46, 53, 53, 72, 76, 76, 82, 82, 183]\n"
     ]
    }
   ],
   "source": [
    "#Taking input from user\n",
    "arr = list(map(int,input(\"Enter the elements array with space between each element \\n\").split(\" \")))\n",
    "print(bubble_sort(arr))\n",
    "\n",
    "#Defining bubble sort algorithm\n",
    "def bubble_sort(arr):\n",
    "    length_of_arr = len(arr)\n",
    "    for i in range(length_of_arr-1,-1,-1):\n",
    "        for j in range(0,i):\n",
    "            if arr[j]>arr[j+1]:\n",
    "                arr[j], arr[j+1] = arr[j+1], arr[j]\n",
    "    return arr"
   ]
  }
 ],
 "metadata": {
  "kernelspec": {
   "display_name": "Python 3 (ipykernel)",
   "language": "python",
   "name": "python3"
  },
  "language_info": {
   "codemirror_mode": {
    "name": "ipython",
    "version": 3
   },
   "file_extension": ".py",
   "mimetype": "text/x-python",
   "name": "python",
   "nbconvert_exporter": "python",
   "pygments_lexer": "ipython3",
   "version": "3.11.0"
  }
 },
 "nbformat": 4,
 "nbformat_minor": 5
}
